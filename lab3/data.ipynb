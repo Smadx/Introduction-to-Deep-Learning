{
 "cells": [
  {
   "cell_type": "markdown",
   "metadata": {},
   "source": [
    "# 下载数据集\n"
   ]
  },
  {
   "cell_type": "code",
   "execution_count": 2,
   "metadata": {},
   "outputs": [
    {
     "name": "stderr",
     "output_type": "stream",
     "text": [
      "c:\\Users\\Rosyk\\.conda\\envs\\torch\\lib\\site-packages\\datasets\\load.py:1461: FutureWarning: The repository for gcaillaut/cora contains custom code which must be executed to correctly load the dataset. You can inspect the repository content at https://hf.co/datasets/gcaillaut/cora\n",
      "You can avoid this message in future by passing the argument `trust_remote_code=True`.\n",
      "Passing `trust_remote_code=True` will be mandatory to load this dataset from the next major release of `datasets`.\n",
      "  warnings.warn(\n",
      "Downloading builder script: 100%|██████████| 8.82k/8.82k [00:00<?, ?B/s]\n",
      "Downloading data: 100%|██████████| 168k/168k [00:01<00:00, 154kB/s]  \n",
      "Generating train split: 2708 examples [00:08, 337.40 examples/s]\n",
      "Saving the dataset (1/1 shards): 100%|██████████| 2708/2708 [00:00<00:00, 13101.18 examples/s]\n",
      "c:\\Users\\Rosyk\\.conda\\envs\\torch\\lib\\site-packages\\datasets\\load.py:1461: FutureWarning: The repository for gcaillaut/citeseer contains custom code which must be executed to correctly load the dataset. You can inspect the repository content at https://hf.co/datasets/gcaillaut/citeseer\n",
      "You can avoid this message in future by passing the argument `trust_remote_code=True`.\n",
      "Passing `trust_remote_code=True` will be mandatory to load this dataset from the next major release of `datasets`.\n",
      "  warnings.warn(\n",
      "Downloading builder script: 100%|██████████| 8.84k/8.84k [00:00<?, ?B/s]\n",
      "Downloading data: 100%|██████████| 359k/359k [00:00<00:00, 377kB/s]  \n",
      "Generating train split: 3312 examples [00:30, 110.27 examples/s]\n",
      "Saving the dataset (1/1 shards): 100%|██████████| 3312/3312 [00:00<00:00, 5577.81 examples/s]\n"
     ]
    }
   ],
   "source": [
    "from datasets import load_dataset\n",
    "\n",
    "cora = load_dataset(\"gcaillaut/cora\")\n",
    "cora.save_to_disk(\"datasets/cora\")\n",
    "\n",
    "citeseer = load_dataset(\"gcaillaut/citeseer\")\n",
    "citeseer.save_to_disk(\"datasets/citeseer\")"
   ]
  }
 ],
 "metadata": {
  "kernelspec": {
   "display_name": "torch",
   "language": "python",
   "name": "python3"
  },
  "language_info": {
   "codemirror_mode": {
    "name": "ipython",
    "version": 3
   },
   "file_extension": ".py",
   "mimetype": "text/x-python",
   "name": "python",
   "nbconvert_exporter": "python",
   "pygments_lexer": "ipython3",
   "version": "3.9.19"
  }
 },
 "nbformat": 4,
 "nbformat_minor": 2
}
